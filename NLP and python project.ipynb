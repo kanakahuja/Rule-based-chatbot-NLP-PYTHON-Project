{
  "metadata": {
    "kernelspec": {
      "name": "python",
      "display_name": "Python (Pyodide)",
      "language": "python"
    },
    "language_info": {
      "codemirror_mode": {
        "name": "python",
        "version": 3
      },
      "file_extension": ".py",
      "mimetype": "text/x-python",
      "name": "python",
      "nbconvert_exporter": "python",
      "pygments_lexer": "ipython3",
      "version": "3.8"
    }
  },
  "nbformat_minor": 4,
  "nbformat": 4,
  "cells": [
    {
      "cell_type": "code",
      "source": "import random\nimport re\nfrom nltk.chat.util import Chat, reflections",
      "metadata": {
        "trusted": true
      },
      "outputs": [],
      "execution_count": 1
    },
    {
      "cell_type": "code",
      "source": "pairs = [\n    [\n        r\"my name is (.*)\",\n        [\"Hello %1, How can I help you today?\", ]\n    ],\n    [\n        r\"what is your name?\",\n        [\"My name is Kanak Ahuja.\", ]\n    ],\n    [\n        r\"how are you?\",\n        [\"I'm good. How about you?\", ]\n    ],\n    [\n        r\"sorry (.*)\",\n        [\"It's okay. No worries.\", ]\n    ],\n    [\n        r\"I am fine\",\n        [\"Good to hear that! How can I assist you today?\", ]\n    ],\n    [\n        r\"i'm (.*) doing good\",\n        [\"Nice to hear that! How can I assist you today?\", ]\n    ],\n\n    [\n        r\"tell me about yourself\",\n        [\"I am Kanak Ahuja, currently pursuing a Bachelor of Technology in Artificial Intelligence and Machine Learning . I have a strong foundation in AI and ML, and I am proficient in several programming languages and web technologies.\", ]\n    ],\n    [\n        r\"(.*) experience ?\",\n        [\"I have completed internships as a Web Development Intern , and as a Flutter Development Intern .\", ]\n    ],\n    [\n        r\"(.*) skills ?\",\n        [\"I am skilled in programming languages like C, C++, Python, and web technologies such as HTML, CSS, JavaScript, PHP, and MySQL. I also have experience with frameworks like Flutter and React.\", ]\n    ],\n    [\n        r\"(.*) projects ?\",\n        [\"I have worked on several projects including a travel website, an avalanche early detection system, an auto crash alert system, and mobile applications like a Netflix clone, YouTube clone, and a BMI calculator.\", ]\n    ],\n    [\n        r\"(.*) research work ?\",\n        [\"I have worked on research titled 'Advancing Technology for Safer Roads: Intelligent Systems and Innovations in Accident Detection for Prioritizing Road Safety Education'.\", ]\n    ],\n    [\n        r\"(.*) achievements ?\",\n        [\"I have received the Best Research Paper Award at SDG International Conference'23, 1st Runner Up in PitchitUp Ideathon'23 , and was among the Top 15 in Vihaan 6.0 Hackathon .\", ]\n    ],\n    [\n        r\"(.*) extracurricular activities ?\",\n        [\"I am involved in several extracurricular activities. I am an Internshala Student Partner, Placement Coordinator , Coordinator of Kalakriti , and Social Media Head of Srijan Society .\", ]\n    ],\n    [\n        r\"(.*) certificates ?\",\n        [\"I have earned several certificates including 'Get started building with Power BI', 'Google Analytics for Beginners', 'Python Programming Certificate', 'Flutter Programming Certificate', and 'Introduction to Microsoft Excel Certificate'.\", ]\n    ],\n    [\n        r\"(.*) contact (.*)\",\n        [\"You can contact me via email at kanakahhuja@gmail.com or through LinkedIn at https://www.linkedin.com/in/kanakahuja/\", ]\n    ],\n    [\n        r\"quit\",\n        [\"Thank you for chatting with me. Have a great day!\", ]\n    ],\n    [\n        r\"(.*)\",\n        [\"I don't understand that. Could you please rephrase?\", ]\n    ],\n]",
      "metadata": {
        "trusted": true
      },
      "outputs": [],
      "execution_count": 2
    },
    {
      "cell_type": "code",
      "source": "\ndef custom_converse(chatbot):\n    user_input = ''\n    mock_inputs = [\n        \"what is your name?\", \"tell me about yourself\", \"what skills do you have?\", \n        \"what are your achievements?\", \"quit\"\n    ]\n    input_index = 0\n    while user_input != 'quit' and input_index < len(mock_inputs):\n        try:\n            user_input = mock_inputs[input_index].strip()\n            print(f\"> {user_input}\")\n            if user_input:\n                while user_input[-1] in \"!.\":  # Remove punctuation from end\n                    user_input = user_input[:-1]\n                response = chatbot.respond(user_input)\n                if response:\n                    print(response)\n                else:\n                    print(\"I don't understand that.\")\n            input_index += 1\n        except EOFError:\n            break",
      "metadata": {
        "trusted": true
      },
      "outputs": [],
      "execution_count": 3
    },
    {
      "cell_type": "code",
      "source": "# Initialize chatbot\nchat = Chat(pairs, reflections)\n",
      "metadata": {
        "trusted": true
      },
      "outputs": [],
      "execution_count": 4
    },
    {
      "cell_type": "code",
      "source": "# Start conversation\ncustom_converse(chat)",
      "metadata": {
        "trusted": true
      },
      "outputs": [
        {
          "name": "stdout",
          "text": "> what is your name?\nMy name is Kanak Ahuja.\n> tell me about yourself\nI am Kanak Ahuja, currently pursuing a Bachelor of Technology in Artificial Intelligence and Machine Learning . I have a strong foundation in AI and ML, and I am proficient in several programming languages and web technologies.\n> what skills do you have?\nI am skilled in programming languages like C, C++, Python, and web technologies such as HTML, CSS, JavaScript, PHP, and MySQL. I also have experience with frameworks like Flutter and React.\n> what are your achievements?\nI have received the Best Research Paper Award at SDG International Conference'23, 1st Runner Up in PitchitUp Ideathon'23 , and was among the Top 15 in Vihaan 6.0 Hackathon .\n> quit\nThank you for chatting with me. Have a great day!\n",
          "output_type": "stream"
        }
      ],
      "execution_count": 5
    },
    {
      "cell_type": "code",
      "source": "",
      "metadata": {
        "trusted": true
      },
      "outputs": [],
      "execution_count": null
    }
  ]
}